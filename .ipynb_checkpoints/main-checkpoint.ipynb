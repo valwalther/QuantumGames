{
 "cells": [
  {
   "cell_type": "code",
   "execution_count": 6,
   "metadata": {},
   "outputs": [
    {
     "data": {
      "application/javascript": [
       "IPython.OutputArea.auto_scroll_threshold = 9999\n"
      ],
      "text/plain": [
       "<IPython.core.display.Javascript object>"
      ]
     },
     "metadata": {},
     "output_type": "display_data"
    }
   ],
   "source": [
    "%%javascript\n",
    "IPython.OutputArea.auto_scroll_threshold = 9999"
   ]
  },
  {
   "cell_type": "markdown",
   "metadata": {},
   "source": [
    "# Quantum Games"
   ]
  },
  {
   "cell_type": "code",
   "execution_count": 23,
   "metadata": {},
   "outputs": [
    {
     "ename": "AttributeError",
     "evalue": "module 'menu' has no attribute 'get_menu'",
     "output_type": "error",
     "traceback": [
      "\u001b[0;31m---------------------------------------------------------------------------\u001b[0m",
      "\u001b[0;31mAttributeError\u001b[0m                            Traceback (most recent call last)",
      "\u001b[0;32m<ipython-input-23-99457fef7c5f>\u001b[0m in \u001b[0;36m<module>\u001b[0;34m\u001b[0m\n\u001b[1;32m     17\u001b[0m \u001b[0;34m\u001b[0m\u001b[0m\n\u001b[1;32m     18\u001b[0m \u001b[0;32mimport\u001b[0m \u001b[0mmenu\u001b[0m\u001b[0;34m\u001b[0m\u001b[0;34m\u001b[0m\u001b[0m\n\u001b[0;32m---> 19\u001b[0;31m \u001b[0mmenu_disp\u001b[0m \u001b[0;34m=\u001b[0m \u001b[0mmenu\u001b[0m\u001b[0;34m.\u001b[0m\u001b[0mget_menu\u001b[0m\u001b[0;34m(\u001b[0m\u001b[0;34m)\u001b[0m\u001b[0;34m\u001b[0m\u001b[0;34m\u001b[0m\u001b[0m\n\u001b[0m\u001b[1;32m     20\u001b[0m \u001b[0;34m\u001b[0m\u001b[0m\n\u001b[1;32m     21\u001b[0m \u001b[0mdisplay_markdown\u001b[0m\u001b[0;34m(\u001b[0m\u001b[0mmenu_disp\u001b[0m\u001b[0;34m)\u001b[0m\u001b[0;34m\u001b[0m\u001b[0;34m\u001b[0m\u001b[0m\n",
      "\u001b[0;31mAttributeError\u001b[0m: module 'menu' has no attribute 'get_menu'"
     ]
    }
   ],
   "source": [
    "from IPython.display import display_markdown\n",
    "from datetime import date\n",
    "import datetime\n",
    "import time\n",
    "import sys, os\n",
    "\n",
    "# tic = time.time()\n",
    "out = !{'if [ ! -d git/QuantumGamesSRC ]; then cd git; git clone https://github.com/valwalther/QuantumGamesSRC.git; else cd git/QuantumGamesSRC; git fetch --all; git reset --hard origin/master; fi'}\n",
    "# for line in out:\n",
    "#     print(line)\n",
    "# toc = time.time()\n",
    "# print('{:.1f}'.format(toc - tic) + ' seconds to update materials')\n",
    "\n",
    "\n",
    "srcdir = 'git/QuantumGamesSRC/src/'\n",
    "sys.path.append(srcdir)\n",
    "\n",
    "import gamemenu\n",
    "menu_disp = gamemenu.get_menu()\n",
    "\n",
    "display_markdown(menu_disp)\n",
    "\n",
    "#schd = schedule.build_schedule(srcdir)\n",
    "#schd.print_events()\n",
    "\n",
    "# flist = !{'ls git/CHM676/*'}\n",
    "# # text = ''\n",
    "# for line in flist:\n",
    "#     #text += '[' + line + '](' + line + ')\\n'\n",
    "#     print(line)\n"
   ]
  },
  {
   "cell_type": "code",
   "execution_count": null,
   "metadata": {},
   "outputs": [],
   "source": []
  }
 ],
 "metadata": {
  "kernelspec": {
   "display_name": "Python 3",
   "language": "python",
   "name": "python3"
  },
  "language_info": {
   "codemirror_mode": {
    "name": "ipython",
    "version": 3
   },
   "file_extension": ".py",
   "mimetype": "text/x-python",
   "name": "python",
   "nbconvert_exporter": "python",
   "pygments_lexer": "ipython3",
   "version": "3.8.1"
  }
 },
 "nbformat": 4,
 "nbformat_minor": 2
}
